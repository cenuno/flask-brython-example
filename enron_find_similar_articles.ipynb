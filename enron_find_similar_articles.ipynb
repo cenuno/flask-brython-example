{
 "cells": [
  {
   "cell_type": "code",
   "execution_count": 1,
   "metadata": {
    "ExecuteTime": {
     "end_time": "2018-11-12T21:24:14.842676Z",
     "start_time": "2018-11-12T21:24:14.808051Z"
    }
   },
   "outputs": [],
   "source": [
    "import os\n",
    "import numpy as np\n",
    "import pandas as pd\n",
    "from sklearn.feature_extraction.text import TfidfVectorizer\n",
    "from scipy.spatial.distance import cosine, cdist"
   ]
  },
  {
   "cell_type": "code",
   "execution_count": 2,
   "metadata": {
    "ExecuteTime": {
     "end_time": "2018-11-12T21:09:14.715374Z",
     "start_time": "2018-11-12T21:09:14.688814Z"
    }
   },
   "outputs": [],
   "source": [
    "def load_enron_data(path):\n",
    "    \"\"\"Load Enron email data from path into a file.\"\"\"\n",
    "    for filename in os.listdir(path):\n",
    "        row = {\n",
    "            'filename': filename,\n",
    "            'content': open(os.path.join(path, filename), 'r', encoding='latin1').read()\n",
    "        }\n",
    "        yield row"
   ]
  },
  {
   "cell_type": "code",
   "execution_count": 3,
   "metadata": {
    "ExecuteTime": {
     "end_time": "2018-11-12T21:11:03.452619Z",
     "start_time": "2018-11-12T21:11:03.331434Z"
    }
   },
   "outputs": [],
   "source": [
    "spam_df = pd.DataFrame(load_enron_data('data/enron1/spam/'))\n",
    "spam_df['is_spam'] = True"
   ]
  },
  {
   "cell_type": "code",
   "execution_count": 4,
   "metadata": {
    "ExecuteTime": {
     "end_time": "2018-11-12T21:11:03.751790Z",
     "start_time": "2018-11-12T21:11:03.485429Z"
    }
   },
   "outputs": [],
   "source": [
    "ham_df = pd.DataFrame(load_enron_data('data/enron1/ham'))\n",
    "ham_df['is_spam'] = False"
   ]
  },
  {
   "cell_type": "code",
   "execution_count": 5,
   "metadata": {
    "ExecuteTime": {
     "end_time": "2018-11-12T21:14:27.102511Z",
     "start_time": "2018-11-12T21:14:27.062811Z"
    }
   },
   "outputs": [],
   "source": [
    "email_df = pd.concat([spam_df, ham_df], axis=0)"
   ]
  },
  {
   "cell_type": "code",
   "execution_count": 6,
   "metadata": {},
   "outputs": [
    {
     "data": {
      "text/plain": [
       "(5172, 3)"
      ]
     },
     "execution_count": 6,
     "metadata": {},
     "output_type": "execute_result"
    }
   ],
   "source": [
    "email_df.shape"
   ]
  },
  {
   "cell_type": "code",
   "execution_count": 7,
   "metadata": {
    "ExecuteTime": {
     "end_time": "2018-11-12T21:18:54.640567Z",
     "start_time": "2018-11-12T21:18:53.927480Z"
    }
   },
   "outputs": [],
   "source": [
    "vec = TfidfVectorizer(stop_words='english', max_features=2000)"
   ]
  },
  {
   "cell_type": "code",
   "execution_count": 8,
   "metadata": {},
   "outputs": [],
   "source": [
    "vec = vec.fit(ham_df['content'])"
   ]
  },
  {
   "cell_type": "code",
   "execution_count": 23,
   "metadata": {},
   "outputs": [],
   "source": [
    "# vec.vocabulary_"
   ]
  },
  {
   "cell_type": "code",
   "execution_count": 9,
   "metadata": {},
   "outputs": [],
   "source": [
    "ham_vectors = vec.transform(ham_df['content']).toarray()"
   ]
  },
  {
   "cell_type": "code",
   "execution_count": 10,
   "metadata": {},
   "outputs": [],
   "source": [
    "user_doc = ham_df['content'][11]"
   ]
  },
  {
   "cell_type": "code",
   "execution_count": 11,
   "metadata": {},
   "outputs": [],
   "source": [
    "user_doc_vector = vec.transform([user_doc]).toarray()"
   ]
  },
  {
   "cell_type": "code",
   "execution_count": 12,
   "metadata": {},
   "outputs": [
    {
     "data": {
      "text/plain": [
       "array([[0., 0., 0., ..., 0., 0., 0.]])"
      ]
     },
     "execution_count": 12,
     "metadata": {},
     "output_type": "execute_result"
    }
   ],
   "source": [
    "user_doc_vector"
   ]
  },
  {
   "cell_type": "code",
   "execution_count": 13,
   "metadata": {},
   "outputs": [],
   "source": [
    "distances = cdist(user_doc_vector,\n",
    "                  ham_vectors,\n",
    "                  metric='cosine')[0]"
   ]
  },
  {
   "cell_type": "code",
   "execution_count": 14,
   "metadata": {},
   "outputs": [
    {
     "data": {
      "text/plain": [
       "(3672,)"
      ]
     },
     "execution_count": 14,
     "metadata": {},
     "output_type": "execute_result"
    }
   ],
   "source": [
    "distances.shape"
   ]
  },
  {
   "cell_type": "code",
   "execution_count": 15,
   "metadata": {},
   "outputs": [],
   "source": [
    "ranking = np.argsort(distances)"
   ]
  },
  {
   "cell_type": "code",
   "execution_count": 16,
   "metadata": {},
   "outputs": [
    {
     "data": {
      "text/plain": [
       "(3672,)"
      ]
     },
     "execution_count": 16,
     "metadata": {},
     "output_type": "execute_result"
    }
   ],
   "source": [
    "ranking.shape"
   ]
  },
  {
   "cell_type": "code",
   "execution_count": 17,
   "metadata": {},
   "outputs": [
    {
     "data": {
      "text/plain": [
       "array([  11, 1371,  562,  752, 1816, 2776, 2671, 3037, 1698, 2133])"
      ]
     },
     "execution_count": 17,
     "metadata": {},
     "output_type": "execute_result"
    }
   ],
   "source": [
    "top_ten = ranking[:10]\n",
    "top_ten"
   ]
  },
  {
   "cell_type": "code",
   "execution_count": 18,
   "metadata": {},
   "outputs": [
    {
     "data": {
      "text/plain": [
       "array([0.        , 0.52531978, 0.6464135 , 0.65238122, 0.66343585,\n",
       "       0.69978574, 0.72376664, 0.7244444 , 0.75382551, 0.75867949])"
      ]
     },
     "execution_count": 18,
     "metadata": {},
     "output_type": "execute_result"
    }
   ],
   "source": [
    "distances[top_ten]"
   ]
  },
  {
   "cell_type": "code",
   "execution_count": 19,
   "metadata": {},
   "outputs": [
    {
     "data": {
      "text/plain": [
       "11      Subject: password reset\\nthis is a generated e...\n",
       "1371    Subject: your username and password\\ndear dare...\n",
       "562     Subject: deletion of your enrononline user id\\...\n",
       "752     Subject: internal guest id and passowrd\\ndarre...\n",
       "1816    Subject: eol application id and password\\ndarr...\n",
       "2776    Subject: eol application id and password\\ndarr...\n",
       "2671    Subject: performance management process - new ...\n",
       "3037    Subject: daren ,\\nthe firm trading waha book h...\n",
       "1698    Subject: enron mid - year 2000 performance man...\n",
       "2133    Subject: investinme . enron . com login inform...\n",
       "351     Subject: pc install p 600\\ndaren\\ni ' m workin...\n",
       "412     Subject: xms - new system\\neffective : we have...\n",
       "2177    Subject: registration welcome email\\nthank you...\n",
       "1409    Subject: registration welcome email\\nthank you...\n",
       "3383    Subject: registration confirmation from spinne...\n",
       "2634    Subject: enron year end 2000 performance manag...\n",
       "1846    Subject: attention : changes in remote access\\...\n",
       "2559    Subject: unify passwords will be reset under s...\n",
       "3000    Subject: gas fundamentals website update\\n- - ...\n",
       "285     Subject: during / after hours contact informat...\n",
       "920     Subject: an inbound message for you has been q...\n",
       "1559    Subject: oasis sept 01 production\\nmike ,\\ni a...\n",
       "983     Subject: industrials daily transaction spreads...\n",
       "2001    Subject: devon transition\\neffective july 1 av...\n",
       "231     Subject: enron year end 2000 performance manag...\n",
       "2178    Subject: econnect vpn\\nyou have been approved ...\n",
       "2834    Subject: yvette ooto\\ni will be on vacation mo...\n",
       "1990    Subject: guest access to eol\\nhi ,\\nyour guest...\n",
       "1250    Subject: entex transistion\\nthe purpose of the...\n",
       "1975    Subject: y 2 k - texas log\\nname home pager\\ng...\n",
       "                              ...                        \n",
       "2328    Subject: the new power company\\nthe new power ...\n",
       "1202    Subject: weekend oncall notes\\nfriday 1 / 19 /...\n",
       "3184    Subject: welcome to the next wave in digital m...\n",
       "80      Subject: proposed rule extends marketing affil...\n",
       "102     Subject: eastrans nomination change effective ...\n",
       "3602    Subject: revised again : revised : eastrans no...\n",
       "2847    Subject: hpl optimization\\nplease make sure yo...\n",
       "2211    Subject: enron and chase manhattan bank sign l...\n",
       "196     Subject: enron net works\\nit is becoming incre...\n",
       "1777    Subject: ena organizational changes\\nena \u0001 , s...\n",
       "320     Subject: a computer and internet connection fo...\n",
       "773     Subject: enw promotion announcement\\nwe are pl...\n",
       "3544    Subject: sec information / earnings restatemen...\n",
       "788     Subject: revised : eastrans nomination effecti...\n",
       "3189    Subject: enbridge buys koch ' s east texas mid...\n",
       "2945    Subject: tenaska iv gas\\ndaren , per review of...\n",
       "2437    Subject: august is known for hot deals !\\ndear...\n",
       "942     Subject: spring savings certificate - take 30 ...\n",
       "3149    Subject: spring savings certificate - take 30 ...\n",
       "3140    Subject: organizational announcement : industr...\n",
       "342     Subject: formation of enron management committ...\n",
       "2253    Subject: hpl meter # 986240 el campo / shangha...\n",
       "3362    Subject: organizational changes\\nenron is form...\n",
       "2241    Subject: new enrononline functionality\\nsevera...\n",
       "3281    Subject: analyst hiring needs\\nplease read the...\n",
       "3313    Subject: california energy crisis\\ncalifornia ...\n",
       "2031    Subject: managing director and vice president ...\n",
       "15      Subject: inactivations\\ncheryl johnson\\n08 / 3...\n",
       "1061    Subject: memo and presentation from brian redm...\n",
       "1882    Subject: hpl meter # 981459 harris gsf energy ...\n",
       "Name: content, Length: 3672, dtype: object"
      ]
     },
     "execution_count": 19,
     "metadata": {},
     "output_type": "execute_result"
    }
   ],
   "source": [
    "ham_df.loc[ranking, 'content']"
   ]
  },
  {
   "cell_type": "code",
   "execution_count": null,
   "metadata": {},
   "outputs": [],
   "source": []
  }
 ],
 "metadata": {
  "kernelspec": {
   "display_name": "Python 3",
   "language": "python",
   "name": "python3"
  },
  "language_info": {
   "codemirror_mode": {
    "name": "ipython",
    "version": 3
   },
   "file_extension": ".py",
   "mimetype": "text/x-python",
   "name": "python",
   "nbconvert_exporter": "python",
   "pygments_lexer": "ipython3",
   "version": "3.7.3"
  }
 },
 "nbformat": 4,
 "nbformat_minor": 2
}
